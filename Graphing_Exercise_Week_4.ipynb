{
  "nbformat": 4,
  "nbformat_minor": 0,
  "metadata": {
    "colab": {
      "name": "Graphing Exercise Week 4.ipynb",
      "provenance": [],
      "mount_file_id": "1wU8C1FuvK3zjcY4ugqdeaB81bF7gQtTy",
      "authorship_tag": "ABX9TyPV0AiQpXyiO632xP9Z7n1g",
      "include_colab_link": true
    },
    "kernelspec": {
      "name": "python3",
      "display_name": "Python 3"
    },
    "language_info": {
      "name": "python"
    }
  },
  "cells": [
    {
      "cell_type": "markdown",
      "metadata": {
        "id": "view-in-github",
        "colab_type": "text"
      },
      "source": [
        "<a href=\"https://colab.research.google.com/github/ninja-josh/coding-dojo-lessons/blob/main/Graphing_Exercise_Week_4.ipynb\" target=\"_parent\"><img src=\"https://colab.research.google.com/assets/colab-badge.svg\" alt=\"Open In Colab\"/></a>"
      ]
    },
    {
      "cell_type": "code",
      "metadata": {
        "id": "qPMIcr1UlXmo"
      },
      "source": [
        "import pandas as pd\n",
        "import matplotlib.pyplot as plt\n",
        "import seaborn as sns\n",
        "import numpy as np"
      ],
      "execution_count": 1,
      "outputs": []
    },
    {
      "cell_type": "code",
      "metadata": {
        "colab": {
          "base_uri": "https://localhost:8080/",
          "height": 202
        },
        "id": "ZY0CvaK3mrgd",
        "outputId": "ebd4d784-8d22-48b6-8fb8-d51533227871"
      },
      "source": [
        "df = pd.read_excel('/content/drive/MyDrive/Colab Notebooks/DS Learn Assignments/Week 4/Global import of cocoa beans.xlsx')\n",
        "df.head()"
      ],
      "execution_count": 2,
      "outputs": [
        {
          "output_type": "execute_result",
          "data": {
            "text/html": [
              "<div>\n",
              "<style scoped>\n",
              "    .dataframe tbody tr th:only-of-type {\n",
              "        vertical-align: middle;\n",
              "    }\n",
              "\n",
              "    .dataframe tbody tr th {\n",
              "        vertical-align: top;\n",
              "    }\n",
              "\n",
              "    .dataframe thead th {\n",
              "        text-align: right;\n",
              "    }\n",
              "</style>\n",
              "<table border=\"1\" class=\"dataframe\">\n",
              "  <thead>\n",
              "    <tr style=\"text-align: right;\">\n",
              "      <th></th>\n",
              "      <th>Region</th>\n",
              "      <th>Year</th>\n",
              "      <th>Import in tonnes</th>\n",
              "    </tr>\n",
              "  </thead>\n",
              "  <tbody>\n",
              "    <tr>\n",
              "      <th>0</th>\n",
              "      <td>Asia &amp; Oceania</td>\n",
              "      <td>2015</td>\n",
              "      <td>565000</td>\n",
              "    </tr>\n",
              "    <tr>\n",
              "      <th>1</th>\n",
              "      <td>Asia &amp; Oceania</td>\n",
              "      <td>2016</td>\n",
              "      <td>592000</td>\n",
              "    </tr>\n",
              "    <tr>\n",
              "      <th>2</th>\n",
              "      <td>Asia &amp; Oceania</td>\n",
              "      <td>2017</td>\n",
              "      <td>866000</td>\n",
              "    </tr>\n",
              "    <tr>\n",
              "      <th>3</th>\n",
              "      <td>Asia &amp; Oceania</td>\n",
              "      <td>2018</td>\n",
              "      <td>927000</td>\n",
              "    </tr>\n",
              "    <tr>\n",
              "      <th>4</th>\n",
              "      <td>Asia &amp; Oceania</td>\n",
              "      <td>2019</td>\n",
              "      <td>924000</td>\n",
              "    </tr>\n",
              "  </tbody>\n",
              "</table>\n",
              "</div>"
            ],
            "text/plain": [
              "           Region  Year  Import in tonnes\n",
              "0  Asia & Oceania  2015            565000\n",
              "1  Asia & Oceania  2016            592000\n",
              "2  Asia & Oceania  2017            866000\n",
              "3  Asia & Oceania  2018            927000\n",
              "4  Asia & Oceania  2019            924000"
            ]
          },
          "metadata": {},
          "execution_count": 2
        }
      ]
    },
    {
      "cell_type": "code",
      "metadata": {
        "colab": {
          "base_uri": "https://localhost:8080/",
          "height": 312
        },
        "id": "D-Evhqh9mwej",
        "outputId": "cd2f85a8-cf09-4341-8964-8c5d24e253e8"
      },
      "source": [
        "sns.barplot(data=df, x='Region', y='Import in tonnes', hue='Year', )\n",
        "plt.title('Cocoa Bean Imports From 2015 - 2019 by Region')"
      ],
      "execution_count": 4,
      "outputs": [
        {
          "output_type": "execute_result",
          "data": {
            "text/plain": [
              "Text(0.5, 1.0, 'Cocoa Bean Imports From 2015 - 2019 by Region')"
            ]
          },
          "metadata": {},
          "execution_count": 4
        },
        {
          "output_type": "display_data",
          "data": {
            "image/png": "[encoded data removed]",
            "text/plain": [
              "<Figure size 432x288 with 1 Axes>"
            ]
          },
          "metadata": {
            "needs_background": "light"
          }
        }
      ]
    },
    {
      "cell_type": "code",
      "metadata": {
        "id": "hJ5m-uu1m-5L"
      },
      "source": [
        ""
      ],
      "execution_count": null,
      "outputs": []
    }
  ]
}